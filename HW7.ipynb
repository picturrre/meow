{
 "cells": [
  {
   "cell_type": "markdown",
   "id": "4352b929-7dde-4ff4-b7aa-bbe8f75dc603",
   "metadata": {},
   "source": [
    "# Домашняя работа 7\n",
    "\n",
    "## Задание 1\n",
    "\n",
    "Напишите функцию, которая принимает на вход строку и проверяет, является ли она валидным транспортным номером (1 буква, 3 цифры, 2 буквы, 2–3 цифры). Обратите внимание, что не все буквы кириллического алфавита используются в транспортных номерах.\n",
    "\n",
    "Если номер валиден, то функция должна возвращать отдельно номер и регион.\n",
    "\n",
    "Примеры работы программы:\n",
    "car_id = 'А222BС96’\n",
    "Результат: Номер А222BС валиден. Регион: 96.\n",
    "\n",
    "car_id = 'АБ22ВВ193’\n",
    "Результат: Номер не валиден."
   ]
  },
  {
   "cell_type": "code",
   "execution_count": 5,
   "id": "621e12f5-3dd7-4c5f-bf10-6a0d4774eb00",
   "metadata": {},
   "outputs": [],
   "source": [
    "import re"
   ]
  },
  {
   "cell_type": "code",
   "execution_count": 63,
   "id": "b4bface8-34c4-4090-9896-2dbe3664ec8b",
   "metadata": {},
   "outputs": [],
   "source": [
    "def car_number(car_id):\n",
    "    pattern = r'^[АВЕКМНОРСТУХ]\\d{3}[АВЕКМНОРСТУХ]{2}\\d{2,3}$'\n",
    "    match = re.match(pattern, car_id)\n",
    "    if match:\n",
    "        number = car_id[:-2] \n",
    "        region = car_id[-2:]  \n",
    "        if len(car_id) > 8:\n",
    "            region=car_id[6:]\n",
    "            number = number[0:6]\n",
    "        return print(\"Номер \", number, \" валиден. Регион: \", region)\n",
    "    else:    \n",
    "        return print(\"Номер не валиден.\")"
   ]
  },
  {
   "cell_type": "code",
   "execution_count": 65,
   "id": "50fb0fcf-975b-45b5-a38b-7d8b1923ef89",
   "metadata": {},
   "outputs": [
    {
     "name": "stdout",
     "output_type": "stream",
     "text": [
      "Номер  А222ВС  валиден. Регион:  96\n",
      "Номер не валиден.\n",
      "Номер  А222ВВ  валиден. Регион:  123\n",
      "Номер не валиден.\n"
     ]
    }
   ],
   "source": [
    "car_number('А222ВС96')  \n",
    "car_number('АБ22ВВ193')  \n",
    "car_number('А222ВВ123') \n",
    "car_number('А567ВФ123')"
   ]
  }
 ],
 "metadata": {
  "kernelspec": {
   "display_name": "Python 3 (ipykernel)",
   "language": "python",
   "name": "python3"
  },
  "language_info": {
   "codemirror_mode": {
    "name": "ipython",
    "version": 3
   },
   "file_extension": ".py",
   "mimetype": "text/x-python",
   "name": "python",
   "nbconvert_exporter": "python",
   "pygments_lexer": "ipython3",
   "version": "3.12.4"
  }
 },
 "nbformat": 4,
 "nbformat_minor": 5
}
