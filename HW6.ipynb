{
 "cells": [
  {
   "cell_type": "markdown",
   "id": "f7044842-e27f-4750-abd7-9c905834de5a",
   "metadata": {},
   "source": [
    "# Домашняя работа 6\n",
    "\n",
    "## Задание 1\n",
    "\n",
    "Напишите код, который возвращает название валюты (поле Name) с максимальным значением курса с помощью сервиса: https://www.cbr-xml-daily.ru/daily_json.js\n",
    "\n",
    "Можно реализовать как с помощью класса из материалов занятия, так и без него.\n",
    "\n",
    "Пример работы программы (зависит от текущих курсов валют):\n",
    "китайские юани."
   ]
  },
  {
   "cell_type": "code",
   "execution_count": 1,
   "id": "410480f8-a957-437a-8e8d-de40c3a738a2",
   "metadata": {},
   "outputs": [],
   "source": [
    "import requests"
   ]
  },
  {
   "cell_type": "code",
   "execution_count": 3,
   "id": "c981dfbd-d5c6-47d9-b72d-4f16d045a2e4",
   "metadata": {},
   "outputs": [],
   "source": [
    "class Rate:\n",
    "    def __init__(self):\n",
    "        return None\n",
    "    def max_rate(self):\n",
    "        self.r = requests.get('https://www.cbr-xml-daily.ru/daily_json.js')\n",
    "        r=self.r.json()['Valute']\n",
    "        list_of_rates=[]\n",
    "        for i,j in r.items():\n",
    "            list_of_rates.append(j['Value'])\n",
    "            max_=max(list_of_rates)     \n",
    "        for j,k in r.items():\n",
    "            for m in k:\n",
    "                if max_ == k['Value']:\n",
    "                    return print(k['Name'])"
   ]
  },
  {
   "cell_type": "code",
   "execution_count": 5,
   "id": "25d421b2-42b5-4159-8d0d-4a8ca2c53314",
   "metadata": {},
   "outputs": [],
   "source": [
    "p = Rate()"
   ]
  },
  {
   "cell_type": "code",
   "execution_count": 7,
   "id": "4dd99686-7245-40d9-bc61-f9309061a6d7",
   "metadata": {},
   "outputs": [
    {
     "name": "stdout",
     "output_type": "stream",
     "text": [
      "СДР (специальные права заимствования)\n"
     ]
    }
   ],
   "source": [
    "p.max_rate()"
   ]
  },
  {
   "cell_type": "markdown",
   "id": "f83c125f-49f2-41b1-a918-069acc161370",
   "metadata": {},
   "source": [
    "## Задание 2\n",
    "\n",
    "Для меня сложно далась логика темы про классы, так что у меня только задание 1 в этот раз 😭😭😭"
   ]
  }
 ],
 "metadata": {
  "kernelspec": {
   "display_name": "Python 3 (ipykernel)",
   "language": "python",
   "name": "python3"
  },
  "language_info": {
   "codemirror_mode": {
    "name": "ipython",
    "version": 3
   },
   "file_extension": ".py",
   "mimetype": "text/x-python",
   "name": "python",
   "nbconvert_exporter": "python",
   "pygments_lexer": "ipython3",
   "version": "3.12.4"
  }
 },
 "nbformat": 4,
 "nbformat_minor": 5
}
