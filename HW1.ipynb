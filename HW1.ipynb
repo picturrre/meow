{
 "cells": [
  {
   "cell_type": "markdown",
   "id": "18b8f15d-4c9c-408c-a26f-8e9d868ca3f9",
   "metadata": {},
   "source": [
    "# Домашнее задание 1"
   ]
  },
  {
   "cell_type": "markdown",
   "id": "cf7702ea-7dd5-4ca3-96ee-ab2768dfb4d8",
   "metadata": {},
   "source": [
    "## Задание 1\n",
    "\n",
    "Написать код на Python в среде Jupyter Notebook для решения следующей задачи.\n",
    "\n",
    "Дана переменная, в которой хранится словарь, содержащий геометки для каждого пользователя (пример структуры данных приведён ниже). Вам нужно написать программу, которая выведет на экран множество уникальных геометок всех пользователей.\n",
    "\n",
    "Пример работы программы:\n",
    "\n",
    "ids = {'user1': [213, 213, 213, 15, 213], \n",
    "    'user2': [54, 54, 119, 119, 119], \n",
    "    'user3': [213, 98, 98, 35]}\n",
    "    \n",
    "Результат: {98, 35, 15, 213, 54, 119}\n"
   ]
  },
  {
   "cell_type": "code",
   "execution_count": 89,
   "id": "190bfdbb-87ab-4d75-8761-a98889e8801e",
   "metadata": {},
   "outputs": [
    {
     "name": "stdout",
     "output_type": "stream",
     "text": [
      "{98, 35, 15, 213, 54, 119}\n"
     ]
    }
   ],
   "source": [
    "ids = {'user1': [213, 213, 213, 15, 213], \n",
    "       'user2': [54, 54, 119, 119, 119], \n",
    "       'user3': [213, 98, 98, 35]}\n",
    "a=[]\n",
    "for value in ids.values():\n",
    "    for i in value:\n",
    "         a.append(i)\n",
    "print(set(a)) "
   ]
  },
  {
   "cell_type": "markdown",
   "id": "6bd8b413-2593-4a84-b7ee-914f6a4da0ea",
   "metadata": {},
   "source": [
    "## Задание 2\n",
    "\n",
    "Написать код на Python в среде Jupyter Notebook для решения следующей задачи.\n",
    "\n",
    "Дана переменная, в которой хранится список поисковых запросов пользователя (пример структуры данных приведён ниже). Вам нужно написать программу, которая выведет на экран распределение количества слов в запросах в требуемом виде.\n",
    "\n",
    "Пример работы программы:\n",
    "\n",
    "queries = [\n",
    "    'смотреть сериалы онлайн',\n",
    "    'новости спорта',\n",
    "    'афиша кино',\n",
    "    'курс доллара',\n",
    "    'сериалы этим летом',\n",
    "    'курс по питону',\n",
    "    'сериалы про спорт',\n",
    "]\n",
    "\n",
    "Результат:\n",
    "\n",
    "Поисковых запросов, содержащих 2 слов(а): 42.86%\n",
    "\n",
    "Поисковых запросов, содержащих 3 слов(а): 57.14%"
   ]
  },
  {
   "cell_type": "code",
   "execution_count": 172,
   "id": "4207dd8f-f121-4fc0-841f-116ec8a939b8",
   "metadata": {},
   "outputs": [
    {
     "name": "stdout",
     "output_type": "stream",
     "text": [
      "Поисковых запросов, содержащих 2 слов(а):  42.86 %\n",
      "Поисковых запросов, содержащих 3 слов(а):  57.14 %\n"
     ]
    }
   ],
   "source": [
    "queries = [ 'смотреть сериалы онлайн', \n",
    "           'новости спорта', \n",
    "           'афиша кино', \n",
    "           'курс доллара', \n",
    "           'сериалы этим летом', \n",
    "           'курс по питону', \n",
    "           'сериалы про спорт', ]\n",
    "list_of_sums = []\n",
    "for i in queries:\n",
    "    summa=i.count(\" \")\n",
    "    list_of_sums.append(summa)\n",
    "\n",
    "final1 = 0\n",
    "final2 = 0\n",
    "for j in list_of_sums:\n",
    "    if j == 1:\n",
    "        final1 += 1\n",
    "    else:\n",
    "        final2 += 1\n",
    "print(\"Поисковых запросов, содержащих 2 слов(а): \", round(final1*100/(final1+final2),2),\"%\")\n",
    "print (\"Поисковых запросов, содержащих 3 слов(а): \", round(final2*100/(final1+final2),2),\"%\")"
   ]
  }
 ],
 "metadata": {
  "kernelspec": {
   "display_name": "Python 3 (ipykernel)",
   "language": "python",
   "name": "python3"
  },
  "language_info": {
   "codemirror_mode": {
    "name": "ipython",
    "version": 3
   },
   "file_extension": ".py",
   "mimetype": "text/x-python",
   "name": "python",
   "nbconvert_exporter": "python",
   "pygments_lexer": "ipython3",
   "version": "3.12.4"
  }
 },
 "nbformat": 4,
 "nbformat_minor": 5
}
