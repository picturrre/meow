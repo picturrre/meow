{
 "cells": [
  {
   "cell_type": "markdown",
   "id": "28f819df-48ba-4076-a537-01a03cb79315",
   "metadata": {},
   "source": [
    "# Домашнее задание 1"
   ]
  },
  {
   "cell_type": "markdown",
   "id": "51af0272-a5d8-45e7-a3ee-a024782eee5e",
   "metadata": {},
   "source": [
    "## Задание 1"
   ]
  },
  {
   "cell_type": "code",
   "execution_count": 56,
   "id": "422cc883-6ada-438f-b2c9-cedab41ab5dd",
   "metadata": {},
   "outputs": [
    {
     "name": "stdin",
     "output_type": "stream",
     "text": [
      "придумай год -1234\n"
     ]
    },
    {
     "name": "stdout",
     "output_type": "stream",
     "text": [
      "-1234  - это не год\n"
     ]
    }
   ],
   "source": [
    "a = int(input(\"придумай год\",))\n",
    "\n",
    "if a >0 and a%4==0:\n",
    "    print(a, \" - високосный год\")\n",
    "elif a<0:\n",
    "    print(a, \" - это не год\")\n",
    "else:\n",
    "    print(a, \" - обычный год\")"
   ]
  },
  {
   "cell_type": "markdown",
   "id": "8e3a61be-faa5-4b12-a604-7b2b47e26525",
   "metadata": {},
   "source": [
    "## Задание 2"
   ]
  },
  {
   "cell_type": "code",
   "execution_count": 84,
   "id": "c87ec79b-36d5-413a-8c88-04294902daac",
   "metadata": {},
   "outputs": [
    {
     "name": "stdin",
     "output_type": "stream",
     "text": [
      "придумай шестизначный номер проездного билета 123122\n"
     ]
    },
    {
     "name": "stdout",
     "output_type": "stream",
     "text": [
      "123122  - несчастливый билет\n"
     ]
    }
   ],
   "source": [
    "b=input(\"придумай шестизначный номер проездного билета\",)\n",
    "\n",
    "if (int(b[0])+int(b[1])+int(b[2]))==(int(b[3])+int(b[4])+int(b[5])):\n",
    "    print(b, \" - счастливый билет\")\n",
    "else:\n",
    "    print(b, \" - несчастливый билет\")"
   ]
  }
 ],
 "metadata": {
  "kernelspec": {
   "display_name": "Python 3 (ipykernel)",
   "language": "python",
   "name": "python3"
  },
  "language_info": {
   "codemirror_mode": {
    "name": "ipython",
    "version": 3
   },
   "file_extension": ".py",
   "mimetype": "text/x-python",
   "name": "python",
   "nbconvert_exporter": "python",
   "pygments_lexer": "ipython3",
   "version": "3.12.4"
  }
 },
 "nbformat": 4,
 "nbformat_minor": 5
}
