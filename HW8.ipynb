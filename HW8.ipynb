{
 "cells": [
  {
   "cell_type": "markdown",
   "id": "72aa1ea7-4456-456e-ac71-f7bac3346c19",
   "metadata": {},
   "source": [
    "# Домашнее задание 8\n",
    "\n",
    "## Задание 1\n",
    "\n",
    "Датасет для домашнего задания вы найдете в разделе “Материалы к домашнему заданию” к этому занятию.\n",
    "\n",
    "Определите, какому фильму было выставлено больше всего оценок 5.0."
   ]
  },
  {
   "cell_type": "code",
   "execution_count": 2,
   "id": "45bc60d8-6fc6-495e-80f3-1a8087f2b52f",
   "metadata": {},
   "outputs": [],
   "source": [
    "import pandas as pd"
   ]
  },
  {
   "cell_type": "code",
   "execution_count": 3,
   "id": "d3b255e3-8df0-4b34-8149-427929dc05a7",
   "metadata": {},
   "outputs": [],
   "source": [
    "movies = pd.read_csv('movies.csv')"
   ]
  },
  {
   "cell_type": "code",
   "execution_count": 4,
   "id": "109d8ace-d06f-4d17-b9eb-8a0a76ee1d30",
   "metadata": {},
   "outputs": [],
   "source": [
    "ratings = pd.read_csv('ratings.csv')\n",
    "ratings = ratings[ratings['rating'] == 5.0]"
   ]
  },
  {
   "cell_type": "code",
   "execution_count": 5,
   "id": "63366063-640c-4318-b047-ce8d5a2307f7",
   "metadata": {},
   "outputs": [
    {
     "data": {
      "text/plain": [
       "'Shawshank Redemption, The (1994)'"
      ]
     },
     "execution_count": 5,
     "metadata": {},
     "output_type": "execute_result"
    }
   ],
   "source": [
    "counts_df = ratings.groupby('movieId').size().reset_index(name='count').sort_values('count',ascending=False)\n",
    "value = counts_df.iloc[0]['movieId']\n",
    "movie_final = movies[movies['movieId'] == value]\n",
    "movie_final.iloc[0]['title']"
   ]
  },
  {
   "cell_type": "markdown",
   "id": "6a51bf3b-3905-4fe2-b53e-ee98a2818bc0",
   "metadata": {},
   "source": [
    "## Задание 2\n",
    "\n",
    "По данным файла power.csv (находится в “Материалы к домашнему заданию”) посчитайте суммарное потребление стран Прибалтики (Латвия, Литва и Эстония) категорий 4, 12 и 21 за период с 2005 по 2010 год. Не учитывайте в расчётах отрицательные значения quantity."
   ]
  },
  {
   "cell_type": "code",
   "execution_count": 7,
   "id": "0f3fe327-082c-4c40-90d1-9c3e989c085d",
   "metadata": {},
   "outputs": [],
   "source": [
    "power = pd.read_csv('power.csv')\n",
    "power = power[\n",
    "        (power['quantity'] > 0) & \n",
    "        (power['year'] >= 2005) & \n",
    "        (power['year'] <= 2010) & \n",
    "        ((power['category'] == 4)|(power['category'] == 12)|(power['category'] == 21))& \n",
    "        ((power['country'] == 'Latvia')|(power['country'] == 'Estonia')|(power['country'] == 'Lithuania'))\n",
    "                ]"
   ]
  },
  {
   "cell_type": "code",
   "execution_count": 8,
   "id": "49008859-8e39-43c5-ba9e-6dc7e02e03e3",
   "metadata": {},
   "outputs": [
    {
     "data": {
      "text/plain": [
       "240580.0"
      ]
     },
     "execution_count": 8,
     "metadata": {},
     "output_type": "execute_result"
    }
   ],
   "source": [
    "power['quantity'].sum()"
   ]
  }
 ],
 "metadata": {
  "kernelspec": {
   "display_name": "Python 3 (ipykernel)",
   "language": "python",
   "name": "python3"
  },
  "language_info": {
   "codemirror_mode": {
    "name": "ipython",
    "version": 3
   },
   "file_extension": ".py",
   "mimetype": "text/x-python",
   "name": "python",
   "nbconvert_exporter": "python",
   "pygments_lexer": "ipython3",
   "version": "3.12.4"
  }
 },
 "nbformat": 4,
 "nbformat_minor": 5
}
