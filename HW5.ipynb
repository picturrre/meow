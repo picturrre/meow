{
 "cells": [
  {
   "cell_type": "markdown",
   "id": "d2447c60-194d-4fe5-b7e2-d36692701d00",
   "metadata": {},
   "source": [
    "# Домашняя работа 5\n",
    "\n",
    "## Задание 1\n",
    "\n",
    "Печатные газеты использовали свой формат дат для каждого выпуска. \n",
    "Для каждой газеты из списка напишите формат указанной даты для перевода в объект datetime:\n",
    "\n",
    "The Moscow Times — Wednesday, October 2, 2002\n",
    "\n",
    "The Guardian — Friday, 11.10.13\n",
    "\n",
    "Daily News — Thursday, 18 August 1977"
   ]
  },
  {
   "cell_type": "code",
   "execution_count": 2,
   "id": "c1c1fb90-b8c3-4746-b633-8455ef6f0252",
   "metadata": {},
   "outputs": [],
   "source": [
    "from datetime import datetime\n",
    "from datetime import timedelta"
   ]
  },
  {
   "cell_type": "code",
   "execution_count": 3,
   "id": "421ba62f-493d-446e-a7f9-905590807182",
   "metadata": {},
   "outputs": [],
   "source": [
    "msk = 'Wednesday, October 2, 2002'\n",
    "guardian = 'Friday, 11.10.13'\n",
    "daily = 'Thursday, 18 August 1977'"
   ]
  },
  {
   "cell_type": "code",
   "execution_count": 4,
   "id": "ba74e178-e61f-41ea-a2ed-972e76c89f5a",
   "metadata": {},
   "outputs": [
    {
     "data": {
      "text/plain": [
       "datetime.datetime(2002, 10, 2, 0, 0)"
      ]
     },
     "execution_count": 4,
     "metadata": {},
     "output_type": "execute_result"
    }
   ],
   "source": [
    "datetime.strptime(msk, '%A, %B %d, %Y')"
   ]
  },
  {
   "cell_type": "code",
   "execution_count": 5,
   "id": "59f976a1-dae7-4416-935d-8b0880ba08c6",
   "metadata": {},
   "outputs": [
    {
     "data": {
      "text/plain": [
       "datetime.datetime(2013, 10, 11, 0, 0)"
      ]
     },
     "execution_count": 5,
     "metadata": {},
     "output_type": "execute_result"
    }
   ],
   "source": [
    "datetime.strptime(guardian, '%A, %d.%m.%y')"
   ]
  },
  {
   "cell_type": "code",
   "execution_count": 6,
   "id": "cfa1d807-6193-4afa-86ea-d06932fc8ef2",
   "metadata": {},
   "outputs": [
    {
     "data": {
      "text/plain": [
       "datetime.datetime(1977, 8, 18, 0, 0)"
      ]
     },
     "execution_count": 6,
     "metadata": {},
     "output_type": "execute_result"
    }
   ],
   "source": [
    "datetime.strptime(daily, '%A, %d %B %Y')"
   ]
  },
  {
   "cell_type": "markdown",
   "id": "cc998d7c-a3e6-4680-95e0-e5564f6019c4",
   "metadata": {},
   "source": [
    "## Задание 2\n",
    "\n",
    "Напишите функцию date_range, которая возвращает список дат за период от start_date до end_date. Даты должны вводиться в формате yyyy-mm-dd. В случае неверного формата или при start_date > end_date должен возвращаться пустой список.\n",
    "\n",
    "Примеры работы программы:\n",
    "date_range(‘2022-01-01’, ‘2022-01-03’) \n",
    "[\n",
    "‘2022-01-01’, \n",
    "‘2022-01-02’, \n",
    "‘2022-01-03’\n",
    "]"
   ]
  },
  {
   "cell_type": "code",
   "execution_count": 8,
   "id": "bea6acd8-ac9e-4f71-8d43-cdc9a491df23",
   "metadata": {},
   "outputs": [],
   "source": [
    "def date_range(start_date, end_date):\n",
    "    while True:\n",
    "        a=[]\n",
    "        if start_date > end_date:\n",
    "            return a\n",
    "        else:\n",
    "            a.append(start_date)\n",
    "            i=0\n",
    "            b=datetime.strptime(start_date, '%Y-%m-%d')\n",
    "            while a[-1] < end_date:\n",
    "                b = b + timedelta(days=1)\n",
    "                a.append(b.strftime('%Y-%m-%d'))\n",
    "            return a"
   ]
  },
  {
   "cell_type": "code",
   "execution_count": 9,
   "id": "1d9f2475-2e35-473c-8367-f64891c00b49",
   "metadata": {},
   "outputs": [
    {
     "data": {
      "text/plain": [
       "[]"
      ]
     },
     "execution_count": 9,
     "metadata": {},
     "output_type": "execute_result"
    }
   ],
   "source": [
    "date_range('2022-01-01', '2021-01-10')"
   ]
  },
  {
   "cell_type": "code",
   "execution_count": 17,
   "id": "a7b161ca-d5af-4faf-92eb-8dd473c758c0",
   "metadata": {},
   "outputs": [
    {
     "data": {
      "text/plain": [
       "['2022-01-01',\n",
       " '2022-01-02',\n",
       " '2022-01-03',\n",
       " '2022-01-04',\n",
       " '2022-01-05',\n",
       " '2022-01-06',\n",
       " '2022-01-07',\n",
       " '2022-01-08',\n",
       " '2022-01-09',\n",
       " '2022-01-10']"
      ]
     },
     "execution_count": 17,
     "metadata": {},
     "output_type": "execute_result"
    }
   ],
   "source": [
    "date_range('2022-01-01', '2022-01-10')"
   ]
  }
 ],
 "metadata": {
  "kernelspec": {
   "display_name": "Python 3 (ipykernel)",
   "language": "python",
   "name": "python3"
  },
  "language_info": {
   "codemirror_mode": {
    "name": "ipython",
    "version": 3
   },
   "file_extension": ".py",
   "mimetype": "text/x-python",
   "name": "python",
   "nbconvert_exporter": "python",
   "pygments_lexer": "ipython3",
   "version": "3.12.4"
  }
 },
 "nbformat": 4,
 "nbformat_minor": 5
}
