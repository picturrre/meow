{
 "cells": [
  {
   "cell_type": "markdown",
   "id": "3dcb20f9-1864-4960-9300-b52fd948cc2b",
   "metadata": {},
   "source": [
    "# Домашняя рабрта 2\n",
    "\n",
    "Вам нужно помочь секретарю автоматизировать работу. Для этого нужно написать программу, которая будет на основе хранимых данных исполнять пользовательские команды.\n",
    "\n",
    "Исходные данные имеют следующую структуру:\n",
    "\n",
    "1. перечень всех документов\n",
    "\n",
    "documents = [\n",
    "{'type': 'passport', 'number': '2207 876234', 'name': 'Василий Гупкин'},\n",
    "{'type': 'invoice', 'number': '11-2', 'name': 'Геннадий Покемонов'},\n",
    "{'type': 'insurance', 'number': '10006', 'name': 'Аристарх Павлов'}\n",
    "]\n",
    "\n",
    "2. перечень полок, на которых хранятся документы (если документ есть в documents, он обязательно должен быть и в directories)\n",
    "\n",
    "directories = {\n",
    "'1': ['2207 876234', '11-2'],\n",
    "'2': ['10006'],\n",
    "'3': []\n",
    "}\n",
    "\n",
    "Общие требования к программе:\n",
    "\n",
    "● код должен быть грамотно декомпозирован: каждая функция отвечает за свою конкретную задачу, дублирующиеся функции переиспользуются, а их код не повторяется;\n",
    "\n",
    "● в коде отсутствуют глобальные переменные, за исключением documents и directories;\n",
    "\n",
    "● пользовательский ввод обрабатывается в цикле while до тех пор, пока пользователь явно не завершит программу вводом команды «q».\n",
    "\n",
    "## Задание 1\n",
    "\n",
    "Пользователь по команде «p» может узнать владельца документа по его номеру.\n",
    "\n",
    "Пример работы программы:\n",
    "\n",
    "Введите команду:\n",
    "p\n",
    "\n",
    "Введите номер документа:\n",
    "10006\n",
    "\n",
    "Результат:\n",
    "Владелец документа: Аристарх Павлов\n",
    "\n",
    "## Задание 2 \n",
    "\n",
    "Секретарь по команде «s» может по номеру документа узнать, на какой полке документ хранится.\n",
    "\n",
    "Пример работы программы:\n",
    "Введите команду:\n",
    "s\n",
    "\n",
    "Введите номер документа:\n",
    "10006\n",
    "\n",
    "Результат:\n",
    "Документ хранится на полке: 2"
   ]
  },
  {
   "cell_type": "code",
   "execution_count": 5,
   "id": "8f30a717-42f5-458d-bf00-6fe6ae24ddca",
   "metadata": {},
   "outputs": [],
   "source": [
    "documents = [{'type': 'passport', 'number': '2207 876234', 'name': 'Василий Гупкин'},\n",
    "                         {'type': 'invoice', 'number': '11-2', 'name': 'Геннадий Покемонов'},\n",
    "                         {'type': 'insurance', 'number': '10006', 'name': 'Аристарх Павлов'}]\n",
    "directories = { '1': ['2207 876234', '11-2'], '2': ['10006'], '3': [] }"
   ]
  },
  {
   "cell_type": "code",
   "execution_count": 60,
   "id": "6976356a-3da4-47fa-aa10-839fff976f83",
   "metadata": {},
   "outputs": [],
   "source": [
    "def referent_help():\n",
    "    while True:\n",
    "        a = input(\"Введите команду: \")\n",
    "        if a == \"p\":\n",
    "            a = input(\"Введите номер документа: \")\n",
    "            for i in documents:\n",
    "                if a in i['number']:\n",
    "                    print(i['name'])\n",
    "        elif a == \"s\":\n",
    "            a = input(\"Введите номер документа: \")\n",
    "            for j,k in directories.items():\n",
    "                for m in k:\n",
    "                    if m == a:\n",
    "                        print(\"Документ хранится на полке: \", int(j))\n",
    "        elif a == \"q\":   \n",
    "            break"
   ]
  },
  {
   "cell_type": "code",
   "execution_count": 62,
   "id": "dda2c86c-a3ed-4c07-8065-649fe831faa8",
   "metadata": {},
   "outputs": [
    {
     "name": "stdin",
     "output_type": "stream",
     "text": [
      "Введите команду:  p\n",
      "Введите номер документа:  11-2\n"
     ]
    },
    {
     "name": "stdout",
     "output_type": "stream",
     "text": [
      "Геннадий Покемонов\n"
     ]
    },
    {
     "name": "stdin",
     "output_type": "stream",
     "text": [
      "Введите команду:  p\n",
      "Введите номер документа:  10006\n"
     ]
    },
    {
     "name": "stdout",
     "output_type": "stream",
     "text": [
      "Аристарх Павлов\n"
     ]
    },
    {
     "name": "stdin",
     "output_type": "stream",
     "text": [
      "Введите команду:  s\n",
      "Введите номер документа:  10006\n"
     ]
    },
    {
     "name": "stdout",
     "output_type": "stream",
     "text": [
      "Документ хранится на полке:  2\n"
     ]
    },
    {
     "name": "stdin",
     "output_type": "stream",
     "text": [
      "Введите команду:  s\n",
      "Введите номер документа:  2207 876234\n"
     ]
    },
    {
     "name": "stdout",
     "output_type": "stream",
     "text": [
      "Документ хранится на полке:  1\n"
     ]
    },
    {
     "name": "stdin",
     "output_type": "stream",
     "text": [
      "Введите команду:  q\n"
     ]
    }
   ],
   "source": [
    "referent_help()"
   ]
  }
 ],
 "metadata": {
  "kernelspec": {
   "display_name": "Python 3 (ipykernel)",
   "language": "python",
   "name": "python3"
  },
  "language_info": {
   "codemirror_mode": {
    "name": "ipython",
    "version": 3
   },
   "file_extension": ".py",
   "mimetype": "text/x-python",
   "name": "python",
   "nbconvert_exporter": "python",
   "pygments_lexer": "ipython3",
   "version": "3.12.4"
  }
 },
 "nbformat": 4,
 "nbformat_minor": 5
}
