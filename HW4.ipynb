{
 "cells": [
  {
   "cell_type": "markdown",
   "id": "b4f60dbc-fcf7-4f1a-8118-006d412a079e",
   "metadata": {},
   "source": [
    "# Домашнее задание 4\n",
    "## Задание 1\n",
    "\n",
    "Переведите содержимое файла purchase_log.txt в словарь purchases вида:{‘1840e0b9d4’: ‘Продукты’, …}\n",
    "\n",
    "Пример работы программы при выводе первых двух элементов словаря purchases:\n",
    "1840e0b9d4 ‘Продукты‘\n",
    "4e4f90fcfb ‘Электроника‘"
   ]
  },
  {
   "cell_type": "code",
   "execution_count": 2,
   "id": "44872ec8-feba-4fbb-bd5e-72d925b2e1ab",
   "metadata": {},
   "outputs": [],
   "source": [
    "import json\n",
    "import csv"
   ]
  },
  {
   "cell_type": "code",
   "execution_count": 4,
   "id": "e6431680-c6c4-476a-a666-3c1a81b12545",
   "metadata": {},
   "outputs": [],
   "source": [
    "purchases={}\n",
    "ids=[]\n",
    "category=[]\n",
    "\n",
    "f = open('purchase_log.txt')\n",
    "\n",
    "for i,line in enumerate(f):\n",
    "    f1 = json.loads(line)\n",
    "    category.append(f1['category'])\n",
    "    ids.append(f1['user_id'])\n",
    "purchases=dict(zip(ids,category))\n",
    "del purchases['user_id']"
   ]
  },
  {
   "cell_type": "markdown",
   "id": "e1c0d8d3-d072-460e-8997-9f0e86d6f590",
   "metadata": {},
   "source": [
    "## Задание 2 (необязательное)\n",
    "\n",
    "Для каждого user_id в файле visit_log.csv определите третий столбец с категорией покупки. Если покупка была, сам файл visit_log.csv изменять не надо.\n",
    "\n",
    "Запишите в файл funnel.csv визиты из файла visit_log.csv, в которых были покупки с указанием категории.\n",
    "\n",
    "Учтите условия для данных:\n",
    "\n",
    "● содержимое purchase_log.txt помещается в оперативную память компьютера;\n",
    "● содержимое visit_log.csv — нет, используйте только построчную обработку этого файла.\n",
    "\n",
    "Примеры работы программы при выводе первых трёх строк файла funnel.csv:\n",
    "user_id,source,category\n",
    "1840e0b9d4,other,Продукты\n",
    "4e4f90fcfb,context,Электроника"
   ]
  },
  {
   "cell_type": "code",
   "execution_count": 7,
   "id": "99ec0c50-257e-4331-aa59-fff3431da1ad",
   "metadata": {},
   "outputs": [],
   "source": [
    "final=[['user_id','source','category']]\n",
    "with open('visit_log.csv') as f2:\n",
    "    reader = csv.reader(f2, delimiter=',')\n",
    "    for j,line in enumerate(reader):\n",
    "        if line[0] in purchases:\n",
    "            a=line[0]\n",
    "            line.append(purchases[a])\n",
    "            final.append(line)"
   ]
  },
  {
   "cell_type": "code",
   "execution_count": 9,
   "id": "20f32973-ac59-43c3-9a79-ac81d148e547",
   "metadata": {},
   "outputs": [],
   "source": [
    "with open('funnel.csv', 'w', newline='') as f3:\n",
    "                csv.writer(f3).writerows(final)"
   ]
  },
  {
   "cell_type": "code",
   "execution_count": 11,
   "id": "87e43725-e8e4-4178-9c3f-707534e91bad",
   "metadata": {},
   "outputs": [
    {
     "name": "stdout",
     "output_type": "stream",
     "text": [
      "['user_id', 'source', 'category']\n",
      "['1840e0b9d4', 'other', 'Продукты']\n",
      "['4e4f90fcfb', 'context', 'Электроника']\n",
      "['afea8d72fc', 'other', 'Электроника']\n",
      "['2824221f38', 'email', 'Продукты']\n",
      "['373a6055fe', 'other', 'Бытовая техника']\n",
      "['9b2ab046f3', 'other', 'Электроника']\n"
     ]
    }
   ],
   "source": [
    "with open('funnel.csv') as f2:\n",
    "    reader = csv.reader(f2, delimiter=',')\n",
    "    for k,line in enumerate(reader):\n",
    "        print(line)\n",
    "        if k>5:\n",
    "            break"
   ]
  }
 ],
 "metadata": {
  "kernelspec": {
   "display_name": "Python 3 (ipykernel)",
   "language": "python",
   "name": "python3"
  },
  "language_info": {
   "codemirror_mode": {
    "name": "ipython",
    "version": 3
   },
   "file_extension": ".py",
   "mimetype": "text/x-python",
   "name": "python",
   "nbconvert_exporter": "python",
   "pygments_lexer": "ipython3",
   "version": "3.12.4"
  }
 },
 "nbformat": 4,
 "nbformat_minor": 5
}
