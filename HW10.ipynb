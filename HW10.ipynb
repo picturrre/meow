{
 "cells": [
  {
   "cell_type": "markdown",
   "id": "63b8a051-4264-4dcd-a862-80cbb2e0b42c",
   "metadata": {},
   "source": [
    "# Домашнее задание 10\n",
    "\n",
    "Есть мнение: раньше снимали настоящее кино, не то что сейчас. Ваша задача — проверить это утверждение, используя файлы с рейтингами фильмов movies_stats.csv. То есть проверить, верно ли, что с ростом года выпуска фильма средний рейтинг становится ниже.\n",
    "\n",
    "При этом мы не будем затрагивать субъективные факторы этих рейтингов, а пройдёмся по следующему алгоритму:\n",
    "1. В переменную years запишите список из всех годов с 1950-го по 2010-й.\n",
    "\n",
    "2. Напишите функцию production_year, которая каждой строке из названия фильма выставляет год выпуска (год выпуска берём из столбца title). Не все названия фильмов содержат год выпуска в одинаковом формате, поэтому используйте следующий алгоритм:\n",
    "   * для каждой строки пройдите по всем годам списка years;\n",
    "   * если номер года присутствует в названии фильма, то функция возвращает этот год как год выпуска;\n",
    "   * если ни один из номеров года списка years не встретился в названии фильма, то возвращается 1900 год.\n",
    "     \n",
    "4. Запишите год выпуска фильма по алгоритму пункта 2 в новый столбец ‘year’.\n",
    "\n",
    "5. Посчитайте средний рейтинг всех фильмов для каждого значения столбца ‘year’ и отсортируйте результат по убыванию рейтинга."
   ]
  },
  {
   "cell_type": "code",
   "execution_count": 2,
   "id": "1de66294-1de1-4a87-8b17-3b1e3f8f94d2",
   "metadata": {},
   "outputs": [],
   "source": [
    "import pandas as pd\n",
    "import re"
   ]
  },
  {
   "cell_type": "code",
   "execution_count": 3,
   "id": "dd52b339-245c-4a1e-a4d1-0baeb296e3d7",
   "metadata": {},
   "outputs": [],
   "source": [
    "movies = pd.read_csv(\"movies_stats.csv\")\n",
    "years = [str(year) for year in range(1950, 2011)]"
   ]
  },
  {
   "cell_type": "code",
   "execution_count": 4,
   "id": "e8dc63ef-40b4-4612-94ca-34423b1c42ee",
   "metadata": {},
   "outputs": [],
   "source": [
    "def production_year(title):\n",
    "    match = re.search(r\"\\((\\d{4})\\)\", title)\n",
    "    if match:\n",
    "        year = match.group(1)\n",
    "        if year in years:  \n",
    "            return int(year)\n",
    "    return 1900 "
   ]
  },
  {
   "cell_type": "code",
   "execution_count": 5,
   "id": "f287abd9-85a8-4d94-a74e-af78161ee417",
   "metadata": {},
   "outputs": [],
   "source": [
    "movies['year'] = movies['title'].apply(production_year)\n",
    "avg_rat = movies.groupby('year')['rating'].mean().sort_values(ascending=False).reset_index()"
   ]
  },
  {
   "cell_type": "code",
   "execution_count": 6,
   "id": "f89a59d8-3db9-4d48-a381-d557fe6fc43d",
   "metadata": {},
   "outputs": [
    {
     "data": {
      "text/html": [
       "<div>\n",
       "<style scoped>\n",
       "    .dataframe tbody tr th:only-of-type {\n",
       "        vertical-align: middle;\n",
       "    }\n",
       "\n",
       "    .dataframe tbody tr th {\n",
       "        vertical-align: top;\n",
       "    }\n",
       "\n",
       "    .dataframe thead th {\n",
       "        text-align: right;\n",
       "    }\n",
       "</style>\n",
       "<table border=\"1\" class=\"dataframe\">\n",
       "  <thead>\n",
       "    <tr style=\"text-align: right;\">\n",
       "      <th></th>\n",
       "      <th>year</th>\n",
       "      <th>rating</th>\n",
       "    </tr>\n",
       "  </thead>\n",
       "  <tbody>\n",
       "    <tr>\n",
       "      <th>0</th>\n",
       "      <td>1957</td>\n",
       "      <td>4.014241</td>\n",
       "    </tr>\n",
       "    <tr>\n",
       "      <th>1</th>\n",
       "      <td>1972</td>\n",
       "      <td>4.011136</td>\n",
       "    </tr>\n",
       "    <tr>\n",
       "      <th>2</th>\n",
       "      <td>1952</td>\n",
       "      <td>4.000000</td>\n",
       "    </tr>\n",
       "    <tr>\n",
       "      <th>3</th>\n",
       "      <td>1954</td>\n",
       "      <td>3.994220</td>\n",
       "    </tr>\n",
       "    <tr>\n",
       "      <th>4</th>\n",
       "      <td>1951</td>\n",
       "      <td>3.983539</td>\n",
       "    </tr>\n",
       "  </tbody>\n",
       "</table>\n",
       "</div>"
      ],
      "text/plain": [
       "   year    rating\n",
       "0  1957  4.014241\n",
       "1  1972  4.011136\n",
       "2  1952  4.000000\n",
       "3  1954  3.994220\n",
       "4  1951  3.983539"
      ]
     },
     "execution_count": 6,
     "metadata": {},
     "output_type": "execute_result"
    }
   ],
   "source": [
    "avg_rat.head(5)"
   ]
  },
  {
   "cell_type": "code",
   "execution_count": 7,
   "id": "5835ded9-4410-41c3-b032-48c808b96b60",
   "metadata": {},
   "outputs": [
    {
     "data": {
      "text/html": [
       "<div>\n",
       "<style scoped>\n",
       "    .dataframe tbody tr th:only-of-type {\n",
       "        vertical-align: middle;\n",
       "    }\n",
       "\n",
       "    .dataframe tbody tr th {\n",
       "        vertical-align: top;\n",
       "    }\n",
       "\n",
       "    .dataframe thead th {\n",
       "        text-align: right;\n",
       "    }\n",
       "</style>\n",
       "<table border=\"1\" class=\"dataframe\">\n",
       "  <thead>\n",
       "    <tr style=\"text-align: right;\">\n",
       "      <th></th>\n",
       "      <th>year</th>\n",
       "      <th>rating</th>\n",
       "    </tr>\n",
       "  </thead>\n",
       "  <tbody>\n",
       "    <tr>\n",
       "      <th>57</th>\n",
       "      <td>2005</td>\n",
       "      <td>3.448434</td>\n",
       "    </tr>\n",
       "    <tr>\n",
       "      <th>58</th>\n",
       "      <td>2003</td>\n",
       "      <td>3.444777</td>\n",
       "    </tr>\n",
       "    <tr>\n",
       "      <th>59</th>\n",
       "      <td>1996</td>\n",
       "      <td>3.426600</td>\n",
       "    </tr>\n",
       "    <tr>\n",
       "      <th>60</th>\n",
       "      <td>1997</td>\n",
       "      <td>3.415764</td>\n",
       "    </tr>\n",
       "    <tr>\n",
       "      <th>61</th>\n",
       "      <td>2000</td>\n",
       "      <td>3.355945</td>\n",
       "    </tr>\n",
       "  </tbody>\n",
       "</table>\n",
       "</div>"
      ],
      "text/plain": [
       "    year    rating\n",
       "57  2005  3.448434\n",
       "58  2003  3.444777\n",
       "59  1996  3.426600\n",
       "60  1997  3.415764\n",
       "61  2000  3.355945"
      ]
     },
     "execution_count": 7,
     "metadata": {},
     "output_type": "execute_result"
    }
   ],
   "source": [
    "avg_rat.tail(5)"
   ]
  },
  {
   "cell_type": "markdown",
   "id": "4a919a62-42f4-4a89-89ff-e26b7a8061ba",
   "metadata": {},
   "source": [
    "**Вывод**: раньше фильмы и правда были лучше, судя по всему"
   ]
  }
 ],
 "metadata": {
  "kernelspec": {
   "display_name": "Python 3 (ipykernel)",
   "language": "python",
   "name": "python3"
  },
  "language_info": {
   "codemirror_mode": {
    "name": "ipython",
    "version": 3
   },
   "file_extension": ".py",
   "mimetype": "text/x-python",
   "name": "python",
   "nbconvert_exporter": "python",
   "pygments_lexer": "ipython3",
   "version": "3.12.4"
  }
 },
 "nbformat": 4,
 "nbformat_minor": 5
}
